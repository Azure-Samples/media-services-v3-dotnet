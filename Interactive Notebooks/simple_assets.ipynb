{
 "cells": [
  {
   "cell_type": "markdown",
   "metadata": {},
   "source": [
    "# Simple list assets\n",
    "\n",
    "This sample shows how to list assets in an AMS account."
   ]
  },
  {
   "cell_type": "code",
   "execution_count": null,
   "metadata": {
    "dotnet_interactive": {
     "language": "csharp"
    },
    "vscode": {
     "languageId": "dotnet-interactive.csharp"
    }
   },
   "outputs": [
    {
     "data": {
      "text/html": [
       "<div><div></div><div></div><div><strong>Installed Packages</strong><ul><li><span>dotenv.net, 3.0.0</span></li><li><span>Microsoft.Azure.Management.Media, 5.0.0</span></li><li><span>Microsoft.Extensions.Configuration, 6.0.1</span></li><li><span>Microsoft.Identity.Client, 4.43.0</span></li><li><span>Microsoft.Rest.ClientRuntime, 3.0.3</span></li></ul></div></div>"
      ]
     },
     "metadata": {},
     "output_type": "display_data"
    }
   ],
   "source": [
    "#r \"nuget:Microsoft.Azure.Management.Media, 5.0.0\"\n",
    "#r \"nuget:Microsoft.Extensions.Configuration\"\n",
    "#r \"nuget:Microsoft.Identity.Client\"\n",
    "#r \"nuget:Microsoft.Rest.ClientRuntime\"\n",
    "#r \"nuget: dotenv.net, 3.0.0\"\n",
    "\n",
    "#load \"scripts/create_client_and_auth.csx\""
   ]
  },
  {
   "cell_type": "markdown",
   "metadata": {},
   "source": [
    "1. Create the client and authenticate"
   ]
  },
  {
   "cell_type": "code",
   "execution_count": null,
   "metadata": {
    "dotnet_interactive": {
     "language": "csharp"
    },
    "vscode": {
     "languageId": "dotnet-interactive.csharp"
    }
   },
   "outputs": [
    {
     "data": {
      "text/plain": [
       "Using AMS REST API version: 2021-06-01"
      ]
     },
     "metadata": {},
     "output_type": "display_data"
    }
   ],
   "source": [
    "var client =await CreateMediaServicesClient();\n",
    "\n",
    "display($\"Using AMS REST API version: {client.ApiVersion}\");"
   ]
  },
  {
   "cell_type": "markdown",
   "metadata": {},
   "source": [
    "2. List all assets in this account"
   ]
  },
  {
   "cell_type": "code",
   "execution_count": null,
   "metadata": {
    "dotnet_interactive": {
     "language": "csharp"
    },
    "vscode": {
     "languageId": "dotnet-interactive.csharp"
    }
   },
   "outputs": [
    {
     "data": {
      "text/html": [
       "<table><thead><tr><th><i>index</i></th><th>AssetId</th><th>Created</th><th>LastModified</th><th>AlternateId</th><th>Description</th><th>Container</th><th>StorageAccountName</th><th>StorageEncryptionFormat</th><th>SystemData</th><th>Id</th><th>Name</th><th>Type</th></tr></thead><tbody><tr><td>0</td><td><div class=\"dni-plaintext\">c837120c-1190-4b21-b315-ec53a907738e</div></td><td><span>2022-03-15 19:58:43Z</span></td><td><span>2022-03-15 19:58:43Z</span></td><td><div class=\"dni-plaintext\">&lt;null&gt;</div></td><td><div class=\"dni-plaintext\">&lt;null&gt;</div></td><td>asset-c837120c-1190-4b21-b315-ec53a907738e</td><td>johndeumanagedstorage</td><td><div class=\"dni-plaintext\">None</div></td><td><table><thead><tr><th>CreatedBy</th><th>CreatedByType</th><th>CreatedAt</th><th>LastModifiedBy</th><th>LastModifiedByType</th><th>LastModifiedAt</th></tr></thead><tbody><tr><td><div class=\"dni-plaintext\">johndeu@microsoft.com</div></td><td><div class=\"dni-plaintext\">User</div></td><td><div class=\"dni-plaintext\">2022-03-15 19:58:43Z</div></td><td><div class=\"dni-plaintext\">johndeu@microsoft.com</div></td><td><div class=\"dni-plaintext\">User</div></td><td><div class=\"dni-plaintext\">2022-03-15 19:58:43Z</div></td></tr></tbody></table></td><td>/subscriptions/2b461b25-f7b4-4a22-90cc-d640a14b5471/resourceGroups/johndeu_managedidentity/providers/Microsoft.Media/mediaservices/johndeumanagedidentity/assets/Azure-Bumper-mp4-20220215-125839</td><td>Azure-Bumper-mp4-20220215-125839</td><td>Microsoft.Media/mediaservices/assets</td></tr></tbody></table>"
      ]
     },
     "metadata": {},
     "output_type": "display_data"
    }
   ],
   "source": [
    "var assets = await client.Assets.ListWithHttpMessagesAsync(RESOURCEGROUP, ACCOUNTNAME);\n",
    "\n",
    "display(assets.Body);"
   ]
  }
 ],
 "metadata": {
  "kernelspec": {
   "display_name": ".NET (C#)",
   "language": "C#",
   "name": ".net-csharp"
  },
  "language_info": {
   "file_extension": ".cs",
   "mimetype": "text/x-csharp",
   "name": "C#",
   "pygments_lexer": "csharp",
   "version": "9.0"
  },
  "orig_nbformat": 4
 },
 "nbformat": 4,
 "nbformat_minor": 2
}
