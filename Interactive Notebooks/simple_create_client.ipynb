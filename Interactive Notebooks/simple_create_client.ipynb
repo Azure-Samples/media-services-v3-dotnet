{
 "cells": [
  {
   "cell_type": "code",
   "execution_count": null,
   "metadata": {
    "dotnet_interactive": {
     "language": "csharp"
    },
    "vscode": {
     "languageId": "dotnet-interactive.csharp"
    }
   },
   "outputs": [
    {
     "data": {
      "text/html": [
       "<div><div></div><div></div><div><strong>Installed Packages</strong><ul><li><span>dotenv.net, 3.0.0</span></li><li><span>Microsoft.Azure.Management.Media, 5.0.0</span></li><li><span>Microsoft.Extensions.Configuration, 6.0.1</span></li><li><span>Microsoft.Identity.Client, 4.43.0</span></li><li><span>Microsoft.Rest.ClientRuntime, 3.0.3</span></li></ul></div></div>"
      ]
     },
     "metadata": {},
     "output_type": "display_data"
    }
   ],
   "source": [
    "#r \"nuget:Microsoft.Azure.Management.Media, 5.0.0\"\n",
    "#r \"nuget:Microsoft.Extensions.Configuration\"\n",
    "#r \"nuget:Microsoft.Identity.Client\"\n",
    "#r \"nuget:Microsoft.Rest.ClientRuntime\"\n",
    "#r \"nuget: dotenv.net, 3.0.0\"\n",
    "\n",
    "#load \"scripts/create_client_and_auth.csx\""
   ]
  },
  {
   "cell_type": "code",
   "execution_count": null,
   "metadata": {
    "dotnet_interactive": {
     "language": "csharp"
    },
    "vscode": {
     "languageId": "dotnet-interactive.csharp"
    }
   },
   "outputs": [
    {
     "data": {
      "text/plain": [
       "Using AMS REST API version: 2021-06-01"
      ]
     },
     "metadata": {},
     "output_type": "display_data"
    }
   ],
   "source": [
    "var client =await CreateMediaServicesClient();\n",
    "\n",
    "display($\"Using AMS REST API version: {client.ApiVersion}\");\n"
   ]
  }
 ],
 "metadata": {
  "kernelspec": {
   "display_name": ".NET (C#)",
   "language": "C#",
   "name": ".net-csharp"
  },
  "language_info": {
   "file_extension": ".cs",
   "mimetype": "text/x-csharp",
   "name": "C#",
   "pygments_lexer": "csharp",
   "version": "9.0"
  },
  "orig_nbformat": 4
 },
 "nbformat": 4,
 "nbformat_minor": 2
}
