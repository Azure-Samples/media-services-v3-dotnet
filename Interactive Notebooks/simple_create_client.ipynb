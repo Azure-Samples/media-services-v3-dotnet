{
 "cells": [
  {
   "cell_type": "markdown",
   "metadata": {},
   "source": [
    "# Simple create client using external CSharp script file\n",
    "\n",
    "This sample shows how to load an external CSharp script file and use it to create the AMS client. \n",
    "It's more convenient to use this method of re-use so that we can simplify other notebook samples and avoid repeating all the client creation and environment setup code. "
   ]
  },
  {
   "cell_type": "code",
   "execution_count": null,
   "metadata": {
    "dotnet_interactive": {
     "language": "csharp"
    },
    "vscode": {
     "languageId": "dotnet-interactive.csharp"
    }
   },
   "outputs": [],
   "source": [
    "#r \"nuget:Microsoft.Azure.Management.Media, 5.0.0\"\n",
    "#r \"nuget:Microsoft.Extensions.Configuration\"\n",
    "#r \"nuget:Microsoft.Identity.Client\"\n",
    "#r \"nuget:Microsoft.Rest.ClientRuntime\"\n",
    "#r \"nuget: dotenv.net, 3.0.0\"\n",
    "\n",
    "#load \"scripts/create_client_and_auth.csx\""
   ]
  },
  {
   "cell_type": "markdown",
   "metadata": {},
   "source": [
    "The next section of code will create the Media Services client using the loaded CreateMediaServicesClient() async method from the loaded script file. "
   ]
  },
  {
   "cell_type": "code",
   "execution_count": null,
   "metadata": {
    "dotnet_interactive": {
     "language": "csharp"
    },
    "vscode": {
     "languageId": "dotnet-interactive.csharp"
    }
   },
   "outputs": [],
   "source": [
    "var client =await CreateMediaServicesClient();\n",
    "\n",
    "display($\"Using AMS REST API version: {client.ApiVersion}\");\n"
   ]
  }
 ],
 "metadata": {
  "kernelspec": {
   "display_name": ".NET (C#)",
   "language": "C#",
   "name": ".net-csharp"
  },
  "language_info": {
   "file_extension": ".cs",
   "mimetype": "text/x-csharp",
   "name": "C#",
   "pygments_lexer": "csharp",
   "version": "9.0"
  },
  "orig_nbformat": 4
 },
 "nbformat": 4,
 "nbformat_minor": 2
}
